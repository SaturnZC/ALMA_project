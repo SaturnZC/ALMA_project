{
 "cells": [
  {
   "cell_type": "code",
   "execution_count": null,
   "id": "a87f9040",
   "metadata": {},
   "outputs": [],
   "source": [
    "from gausspy_pipeline import GausspyPipeline\n",
    "import numpy as np\n",
    "import matplotlib.pyplot as plt\n",
    "from scipy.interpolate import interp1d\n",
    "import pickle\n",
    "from astropy.io import fits\n",
    "\n",
    "# 1. Create pipeline and initialize all parameters\n",
    "pipeline = GausspyPipeline(\n",
    "    cube_file='../datacubes/spw1.fits',\n",
    "    v1=10, v2=1500, x1=190, x2=210, y1=220, y2=240,\n",
    "    alpha1=0.1, alpha2=12.0, snr_thresh=3.0,\n",
    "    stack_vrange=(-200, 200), stack_dv=0.2\n",
    ")\n"
   ]
  },
  {
   "cell_type": "code",
   "execution_count": null,
   "id": "2079bfd1",
   "metadata": {},
   "outputs": [],
   "source": [
    "# transform the fits cube to gausspy format\n",
    "pipeline.prepare_input()\n",
    "\n",
    "# d = pickle.load(open('spectrum_for_gausspy_spw1.pickle', 'rb'))\n",
    "# print(d.keys())\n",
    "# print(len(d['x_values']), len(d['data_list']), len(d['errors']))\n",
    "# print(type(d['x_values'][0]), type(d['data_list'][0]), type(d['errors'][0]))\n",
    "# print(d['x_values'][0].shape, d['data_list'][0].shape, d['errors'][0].shape)\n",
    "\n",
    "# for i, spec in enumerate(d['data_list']):\n",
    "#     if np.any(np.isnan(spec)):\n",
    "#         print(f\"Spectrum {i} 有 NaN！\")\n",
    "#     elif np.any(np.isinf(spec)):\n",
    "#         print(f\"Spectrum {i} 有 Inf！\")\n",
    "#     elif np.all(spec == 0):\n",
    "#         print(f\"Spectrum {i} 全部為 0！\")\n",
    "#     elif len(spec) == 0:\n",
    "#         print(f\"Spectrum {i} 長度為 0！\")\n",
    "#     elif not np.issubdtype(spec.dtype, np.floating):\n",
    "#         print(f\"Spectrum {i} 不是 float 類型！\")\n"
   ]
  },
  {
   "cell_type": "code",
   "execution_count": null,
   "id": "8e83e85d",
   "metadata": {},
   "outputs": [],
   "source": [
    "#decomposition\n",
    "pipeline.run_decomposition()"
   ]
  },
  {
   "cell_type": "code",
   "execution_count": null,
   "id": "bdfc7274",
   "metadata": {},
   "outputs": [],
   "source": [
    "#show the results\n",
    "pipeline.count_fits()"
   ]
  },
  {
   "cell_type": "code",
   "execution_count": null,
   "id": "e48fe380",
   "metadata": {},
   "outputs": [],
   "source": [
    "fit_result_dic = pipeline.classify_fit_results('fit_result_dic.pickle')"
   ]
  },
  {
   "cell_type": "code",
   "execution_count": null,
   "id": "2d829efc",
   "metadata": {},
   "outputs": [],
   "source": [
    "import pickle\n",
    "with open('fit_result_dic.pickle', 'rb') as f:\n",
    "    result = pickle.load(f)\n",
    "\n",
    "print(result.keys())  # 應該會看到 dict_keys(['s', 'm', 'f'])\n",
    "\n",
    "print(f\"單峰（s）數量: {len(result['s'])}\")\n",
    "print(f\"多峰（m）數量: {len(result['m'])}\")\n",
    "print(f\"擬合失敗（f）數量: {len(result['f'])}\")\n"
   ]
  },
  {
   "cell_type": "code",
   "execution_count": null,
   "id": "6072995b",
   "metadata": {},
   "outputs": [],
   "source": [
    "# Plot the results\n",
    "# 單峰\n",
    "pipeline.plot_classified_fits(fit_result_pickle='fit_result_dic.pickle', category='s', plot_max=20)\n",
    "# 多峰\n",
    "# pipeline.plot_classified_fits(fit_result_pickle='fit_result_dic.pickle', category='m', plot_max=20)\n"
   ]
  },
  {
   "cell_type": "code",
   "execution_count": null,
   "id": "aa50fef9",
   "metadata": {},
   "outputs": [],
   "source": [
    "# 疊加\n",
    "v_rest, mean_rest, std_rest = pipeline.stack_restframe(plot=False)\n",
    "v_raw, mean_raw, std_raw = pipeline.stack_raw_spectra(plot=False)\n",
    "\n",
    "pipeline.plot_stacked_zoom(\n",
    "    v_rest, mean_rest,\n",
    "    v_raw, mean_raw,\n",
    "    target_freq= 215.7,\n",
    "    freq_raw0=215.220653, # SO 3Σ v = 0\n",
    "    vmin=-1800, vmax=600\n",
    ")"
   ]
  },
  {
   "cell_type": "code",
   "execution_count": null,
   "id": "1609577e",
   "metadata": {},
   "outputs": [],
   "source": [
    "v_grid, mean_spec, std_spec = pipeline.stack_restframe(plot=False)\n",
    "# 常見分子線字典\n",
    "line_dict = {\n",
    "    \"SO\":           215.220653,\n",
    "    \"CH3NH2\":       215.143053,\n",
    "    \"34SO\":         215.8394361,\n",
    "    \"c-C3H2\":       216.278756,\n",
    "    \"DCO+\":         216.1125822\n",
    "    }\n",
    "\n",
    "# restfreq 設為你當時疊加主峰的分子線頻率（如 SO）\n",
    "restfreq = 215.220653 # SO 3Σ v = 0\n",
    "\n",
    "# 假設 pipeline 是你的 GausspyPipeline 實例\n",
    "pipeline.plot_lines_on_stack(v_grid, mean_spec, line_dict, restfreq=restfreq, label_offset=0.02)\n"
   ]
  }
 ],
 "metadata": {
  "kernelspec": {
   "display_name": "gausspy",
   "language": "python",
   "name": "python3"
  },
  "language_info": {
   "codemirror_mode": {
    "name": "ipython",
    "version": 3
   },
   "file_extension": ".py",
   "mimetype": "text/x-python",
   "name": "python",
   "nbconvert_exporter": "python",
   "pygments_lexer": "ipython3",
   "version": "3.7.16"
  }
 },
 "nbformat": 4,
 "nbformat_minor": 5
}
